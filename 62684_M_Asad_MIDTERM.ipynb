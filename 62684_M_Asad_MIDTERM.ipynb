{
  "nbformat": 4,
  "nbformat_minor": 0,
  "metadata": {
    "colab": {
      "provenance": []
    },
    "kernelspec": {
      "name": "python3",
      "display_name": "Python 3"
    },
    "language_info": {
      "name": "python"
    }
  },
  "cells": [
    {
      "cell_type": "code",
      "source": [],
      "metadata": {
        "id": "p6LGNUP_Wvrz"
      },
      "execution_count": null,
      "outputs": []
    },
    {
      "cell_type": "code",
      "execution_count": 12,
      "metadata": {
        "colab": {
          "base_uri": "https://localhost:8080/"
        },
        "id": "HCXqkzGCYhL-",
        "outputId": "0b7e4034-be0d-41a4-f86b-4d4d37806206"
      },
      "outputs": [
        {
          "output_type": "stream",
          "name": "stdout",
          "text": [
            "Enter the first number for addition:5\n",
            "Enter the second number for addition:6\n",
            " sum:  11\n"
          ]
        }
      ],
      "source": [
        "num1 = int(input(\"Enter the first number for addition:\"))\n",
        "num2 = int(input(\"Enter the second number for addition:\"))\n",
        "answer = num1 + num2\n",
        "print( \" sum: \" , answer)\n"
      ]
    },
    {
      "cell_type": "code",
      "source": [
        "num1 = int(input(\"Enter the dividend for division:\"))\n",
        "num2 = int(input(\"Enter the divisor for division::\"))\n",
        "answer = num1 / num2\n",
        "print( \"Division:  \" , answer)"
      ],
      "metadata": {
        "colab": {
          "base_uri": "https://localhost:8080/"
        },
        "id": "KrgS7E0aZIhY",
        "outputId": "8a8a6bf3-739d-4677-fb03-2c13d4586dd0"
      },
      "execution_count": 14,
      "outputs": [
        {
          "output_type": "stream",
          "name": "stdout",
          "text": [
            "Enter the dividend for division:25\n",
            "Enter the divisor for division::5\n",
            "Division:   5.0\n"
          ]
        }
      ]
    },
    {
      "cell_type": "code",
      "source": [
        "num1 = int(input(\"Enter the lenght of the base of the triangle:\"))\n",
        "num2 = int(input(\"Enter the hight of the triangle:\"))\n",
        "answer = num1 * num2 / 2\n",
        "print( \"The area of triangle is: \" , answer)"
      ],
      "metadata": {
        "id": "H9t5ABzGbGwf",
        "outputId": "e6225322-9053-40df-d24e-9cc50b80e14e",
        "colab": {
          "base_uri": "https://localhost:8080/"
        }
      },
      "execution_count": 18,
      "outputs": [
        {
          "output_type": "stream",
          "name": "stdout",
          "text": [
            "Enter the lenght of the base of the triangle:10\n",
            "Enter the hight of the triangle:15\n",
            "The area of triangle is:  75.0\n"
          ]
        }
      ]
    },
    {
      "cell_type": "code",
      "source": [
        "num1 = int(input(\"Enter temperature in celsius:\"))\n",
        "answer = 9 / 5 * num1 + 32\n",
        "print(\"degree celsius is equal to: \" , answer)"
      ],
      "metadata": {
        "id": "p8mBHubybvRh",
        "outputId": "d5054123-e729-456a-c3f6-07ccb8aa6d1c",
        "colab": {
          "base_uri": "https://localhost:8080/"
        }
      },
      "execution_count": 29,
      "outputs": [
        {
          "output_type": "stream",
          "name": "stdout",
          "text": [
            "Enter temperature in celsius:37\n",
            "degree celsius is equal to:  98.60000000000001\n"
          ]
        }
      ]
    },
    {
      "cell_type": "code",
      "source": [
        "a = 19\n",
        "print( \"the data type of 19 is; \" , type(a))\n",
        "b = 16.5\n",
        "print( \"the data type of 19 is; \" , type(b))\n",
        "c = (\"asad\")\n",
        "print( \"the data type of 19 is; \" , type(c))\n",
        "d = True\n",
        "print( \"the data type of 19 is; \" , type(d))"
      ],
      "metadata": {
        "id": "nsModJfdc0nF",
        "outputId": "56bea9f4-1980-4e8f-f9cd-3766e984d428",
        "colab": {
          "base_uri": "https://localhost:8080/"
        }
      },
      "execution_count": 37,
      "outputs": [
        {
          "output_type": "stream",
          "name": "stdout",
          "text": [
            "the data type of 19 is;  <class 'int'>\n",
            "the data type of 19 is;  <class 'float'>\n",
            "the data type of 19 is;  <class 'str'>\n",
            "the data type of 19 is;  <class 'bool'>\n"
          ]
        }
      ]
    }
  ]
}